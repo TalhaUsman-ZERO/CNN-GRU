{
 "cells": [
  {
   "cell_type": "code",
   "execution_count": null,
   "id": "328fc8cd",
   "metadata": {},
   "outputs": [],
   "source": [
    "#IF WORKING WITH COLAB UNCOMMENT THE LINES BELOW\n",
    "\n",
    "\n",
    "# from google.colab import drive\n",
    "# from google.colab import files\n",
    "# drive.mount(\"/content/gdrive\")"
   ]
  },
  {
   "cell_type": "code",
   "execution_count": 1,
   "id": "de037c4f",
   "metadata": {},
   "outputs": [],
   "source": [
    "import numpy as np \n",
    "import pandas as pd\n",
    "import matplotlib.pyplot as plt\n",
    "import tensorflow as tf\n",
    "import keras as k\n",
    "from keras.models import Sequential\n",
    "from keras.layers import Convolution2D\n",
    "from keras.layers import MaxPooling2D\n",
    "from keras.layers import Flatten\n",
    "from keras.layers import Dense\n",
    "from keras.layers import Activation\n",
    "from keras.layers import BatchNormalization\n",
    "from keras.layers import Dropout\n",
    "from keras.layers import RepeatVector\n",
    "from keras.layers import LSTM\n",
    "from keras.layers import GRU\n",
    "from keras.layers import SimpleRNN\n",
    "from keras.utils import plot_model\n",
    "from keras.preprocessing.image import ImageDataGenerator\n",
    "from keras.utils import to_categorical\n",
    "from keras import regularizers\n",
    "from keras.callbacks import LearningRateScheduler\n"
   ]
  },
  {
   "cell_type": "code",
   "execution_count": 2,
   "id": "deb30c12",
   "metadata": {},
   "outputs": [],
   "source": [
    "(train_images,train_labels),(test_images,test_labels)=tf.keras.datasets.cifar10.load_data() "
   ]
  },
  {
   "cell_type": "code",
   "execution_count": 3,
   "id": "22f8b202",
   "metadata": {},
   "outputs": [],
   "source": [
    "class_names = ['airplane','automobile','bird','cat','deer','dog','frog','horse','ship','truck'] "
   ]
  },
  {
   "cell_type": "code",
   "execution_count": 4,
   "id": "4f042c56",
   "metadata": {},
   "outputs": [],
   "source": [
    "num_classes=10\n",
    "\n",
    "train_labels = to_categorical(train_labels, num_classes)\n",
    "test_labels = to_categorical(test_labels, num_classes)\n",
    "\n",
    "train_images=train_images.astype(\"float32\")  \n",
    "test_images=test_images.astype(\"float32\")\n",
    "\n",
    "train_images /= 255.0\n",
    "test_images /= 255.0"
   ]
  },
  {
   "cell_type": "code",
   "execution_count": 5,
   "id": "15a22eb1",
   "metadata": {},
   "outputs": [],
   "source": [
    "#first convolution\n",
    "model=Sequential()\n",
    "model.add(Convolution2D(32, (3, 3), padding='same', input_shape=train_images.shape[1:]))\n",
    "model.add(Activation('relu'))\n",
    "model.add(Convolution2D(32, (3, 3)))\n",
    "model.add(Activation('relu'))\n",
    "model.add(MaxPooling2D(pool_size=(2, 2)))\n",
    "model.add(Dropout(0.2))\n"
   ]
  },
  {
   "cell_type": "code",
   "execution_count": 6,
   "id": "392f31ff",
   "metadata": {},
   "outputs": [],
   "source": [
    "#2nd convolution layer\n",
    "model.add(Convolution2D(64, (3, 3), padding='same'))\n",
    "model.add(Activation('relu'))\n",
    "model.add(Convolution2D(64, (3, 3)))\n",
    "model.add(Activation('relu'))\n",
    "model.add(MaxPooling2D(pool_size=(2, 2)))\n",
    "model.add(Dropout(0.3))\n"
   ]
  },
  {
   "cell_type": "code",
   "execution_count": 7,
   "id": "b16c5b48",
   "metadata": {},
   "outputs": [],
   "source": [
    "#3rd convolution layer\n",
    "model.add(Convolution2D(128, (3, 3), padding='same'))\n",
    "model.add(Activation('relu'))\n",
    "model.add(Convolution2D(128, (3, 3)))\n",
    "model.add(Activation('relu'))\n",
    "model.add(MaxPooling2D(pool_size=(2, 2)))\n",
    "model.add(Dropout(0.4))\n"
   ]
  },
  {
   "cell_type": "code",
   "execution_count": 8,
   "id": "92aa2e17",
   "metadata": {},
   "outputs": [],
   "source": [
    "#flatten layer\n",
    "model.add(Flatten())\n",
    "model.add(Dense(32, activation='relu'))"
   ]
  },
  {
   "cell_type": "code",
   "execution_count": 9,
   "id": "70a974ec",
   "metadata": {},
   "outputs": [],
   "source": [
    "n_timesteps=32\n",
    "model.add(RepeatVector(n_timesteps))\n"
   ]
  },
  {
   "cell_type": "code",
   "execution_count": 10,
   "id": "c542dbbf",
   "metadata": {},
   "outputs": [],
   "source": [
    "#1st lstm layer\n",
    "model.add(GRU(128, return_sequences=True, input_shape=(n_timesteps,3)))\n",
    "model.add(Activation('relu'))\n",
    "model.add(Dropout(0.2))\n"
   ]
  },
  {
   "cell_type": "code",
   "execution_count": 11,
   "id": "85a8642e",
   "metadata": {},
   "outputs": [],
   "source": [
    "#2nd lstm layer\n",
    "model.add(GRU(256))\n",
    "model.add(Activation('relu'))\n",
    "model.add(Dropout(0.3))"
   ]
  },
  {
   "cell_type": "code",
   "execution_count": 12,
   "id": "cdacb968",
   "metadata": {},
   "outputs": [
    {
     "name": "stdout",
     "output_type": "stream",
     "text": [
      "Model: \"sequential\"\n",
      "_________________________________________________________________\n",
      "Layer (type)                 Output Shape              Param #   \n",
      "=================================================================\n",
      "conv2d (Conv2D)              (None, 32, 32, 32)        896       \n",
      "_________________________________________________________________\n",
      "activation (Activation)      (None, 32, 32, 32)        0         \n",
      "_________________________________________________________________\n",
      "conv2d_1 (Conv2D)            (None, 30, 30, 32)        9248      \n",
      "_________________________________________________________________\n",
      "activation_1 (Activation)    (None, 30, 30, 32)        0         \n",
      "_________________________________________________________________\n",
      "max_pooling2d (MaxPooling2D) (None, 15, 15, 32)        0         \n",
      "_________________________________________________________________\n",
      "dropout (Dropout)            (None, 15, 15, 32)        0         \n",
      "_________________________________________________________________\n",
      "conv2d_2 (Conv2D)            (None, 15, 15, 64)        18496     \n",
      "_________________________________________________________________\n",
      "activation_2 (Activation)    (None, 15, 15, 64)        0         \n",
      "_________________________________________________________________\n",
      "conv2d_3 (Conv2D)            (None, 13, 13, 64)        36928     \n",
      "_________________________________________________________________\n",
      "activation_3 (Activation)    (None, 13, 13, 64)        0         \n",
      "_________________________________________________________________\n",
      "max_pooling2d_1 (MaxPooling2 (None, 6, 6, 64)          0         \n",
      "_________________________________________________________________\n",
      "dropout_1 (Dropout)          (None, 6, 6, 64)          0         \n",
      "_________________________________________________________________\n",
      "conv2d_4 (Conv2D)            (None, 6, 6, 128)         73856     \n",
      "_________________________________________________________________\n",
      "activation_4 (Activation)    (None, 6, 6, 128)         0         \n",
      "_________________________________________________________________\n",
      "conv2d_5 (Conv2D)            (None, 4, 4, 128)         147584    \n",
      "_________________________________________________________________\n",
      "activation_5 (Activation)    (None, 4, 4, 128)         0         \n",
      "_________________________________________________________________\n",
      "max_pooling2d_2 (MaxPooling2 (None, 2, 2, 128)         0         \n",
      "_________________________________________________________________\n",
      "dropout_2 (Dropout)          (None, 2, 2, 128)         0         \n",
      "_________________________________________________________________\n",
      "flatten (Flatten)            (None, 512)               0         \n",
      "_________________________________________________________________\n",
      "dense (Dense)                (None, 32)                16416     \n",
      "_________________________________________________________________\n",
      "repeat_vector (RepeatVector) (None, 32, 32)            0         \n",
      "_________________________________________________________________\n",
      "gru (GRU)                    (None, 32, 128)           62208     \n",
      "_________________________________________________________________\n",
      "activation_6 (Activation)    (None, 32, 128)           0         \n",
      "_________________________________________________________________\n",
      "dropout_3 (Dropout)          (None, 32, 128)           0         \n",
      "_________________________________________________________________\n",
      "gru_1 (GRU)                  (None, 256)               296448    \n",
      "_________________________________________________________________\n",
      "activation_7 (Activation)    (None, 256)               0         \n",
      "_________________________________________________________________\n",
      "dropout_4 (Dropout)          (None, 256)               0         \n",
      "_________________________________________________________________\n",
      "dense_1 (Dense)              (None, 10)                2570      \n",
      "=================================================================\n",
      "Total params: 664,650\n",
      "Trainable params: 664,650\n",
      "Non-trainable params: 0\n",
      "_________________________________________________________________\n",
      "None\n"
     ]
    }
   ],
   "source": [
    "#output layer\n",
    "model.add(Dense(num_classes,activation='softmax'))\n",
    "\n",
    "#model compilation\n",
    "model.compile(loss='categorical_crossentropy', optimizer='adam',metrics=['accuracy'])\n",
    "\n",
    "print(model.summary())"
   ]
  },
  {
   "cell_type": "code",
   "execution_count": 13,
   "id": "da048123",
   "metadata": {},
   "outputs": [],
   "source": [
    "from keras.callbacks import TensorBoard\n",
    "tbCallBack = TensorBoard(log_dir='./log', histogram_freq=1, write_graph=True,write_images=True)"
   ]
  },
  {
   "cell_type": "code",
   "execution_count": null,
   "id": "eb43ea9a",
   "metadata": {},
   "outputs": [
    {
     "name": "stdout",
     "output_type": "stream",
     "text": [
      "Epoch 1/3\n",
      " 663/1563 [===========>..................] - ETA: 6:44 - loss: 1.9912 - accuracy: 0.2113"
     ]
    }
   ],
   "source": [
    "#training\n",
    "batch_size = 32\n",
    "epochs=3\n",
    "\n",
    "model.fit(train_images, train_labels, batch_size=batch_size, epochs=epochs, verbose=1, validation_data=(test_images, test_labels))"
   ]
  },
  {
   "cell_type": "code",
   "execution_count": null,
   "id": "ab80a1f7",
   "metadata": {},
   "outputs": [],
   "source": [
    "scores = model.evaluate(test_images,test_labels, verbose=1)\n",
    "print('Test loss:', scores[0])\n",
    "print('Test accuracy:', scores[1])"
   ]
  },
  {
   "cell_type": "code",
   "execution_count": null,
   "id": "ed603f14",
   "metadata": {},
   "outputs": [],
   "source": [
    "# get predictions on the test set\n",
    "y_hat = model.predict(test_images)"
   ]
  },
  {
   "cell_type": "code",
   "execution_count": null,
   "id": "e9a4852d",
   "metadata": {},
   "outputs": [],
   "source": [
    "# plot a random sample of test images, their predicted labels, and ground truth\n",
    "fig = plt.figure(figsize=(20, 8))\n",
    "for i, idx in enumerate(np.random.choice(test_images.shape[0], size=32, replace=False)):\n",
    "    ax = fig.add_subplot(4, 8, i + 1, xticks=[], yticks=[])\n",
    "    ax.imshow(np.squeeze(test_images[idx]))\n",
    "    pred_idx = np.argmax(y_hat[idx])\n",
    "    true_idx = np.argmax(test_labels[idx])\n",
    "    ax.set_title(\"{} ({})\".format(class_names[pred_idx], class_names[true_idx]),\n",
    "                 color=(\"green\" if pred_idx == true_idx else \"red\"))"
   ]
  }
 ],
 "metadata": {
  "kernelspec": {
   "display_name": "Python 3",
   "language": "python",
   "name": "python3"
  },
  "language_info": {
   "codemirror_mode": {
    "name": "ipython",
    "version": 3
   },
   "file_extension": ".py",
   "mimetype": "text/x-python",
   "name": "python",
   "nbconvert_exporter": "python",
   "pygments_lexer": "ipython3",
   "version": "3.8.8"
  }
 },
 "nbformat": 4,
 "nbformat_minor": 5
}
